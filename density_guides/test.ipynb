{
 "cells": [
  {
   "cell_type": "code",
   "execution_count": null,
   "id": "0961f808",
   "metadata": {},
   "outputs": [],
   "source": [
    "import PIL\n",
    "import torch\n",
    "import kornia\n",
    "import numpy as np\n",
    "from diffusers.pipelines import AutoPipelineForText2Image"
   ]
  },
  {
   "cell_type": "code",
   "execution_count": null,
   "id": "4f5b7ed3",
   "metadata": {},
   "outputs": [],
   "source": [
    "pipeline = AutoPipelineForText2Image.from_pretrained(\n",
    "        \"/root/autodl-tmp/stable-diffusion/sdxl-turbo\",\n",
    "        torch_dtype=torch.float32)"
   ]
  },
  {
   "cell_type": "code",
   "execution_count": null,
   "id": "28312438",
   "metadata": {},
   "outputs": [],
   "source": [
    "image = PIL.Image.open('/root/autodl-tmp/fsc147-controlnet/image/3.png')\n",
    "density = PIL.Image.open('/root/autodl-tmp/fsc147-controlnet/density/3.png')\n",
    "from clip_count.run import Model\n",
    "model =  Model.load_from_checkpoint(\"/root/autodl-tmp/clip-count/clipcount_pretrained.ckpt\", strict=False).cuda()\n",
    "model.eval()\n",
    "\n",
    "from diffusers.image_processor import VaeImageProcessor\n",
    "image_processor = VaeImageProcessor(vae_scale_factor=8)\n",
    "img_tensor = image_processor.preprocess(image).to('cuda')\n",
    "\n",
    "def transform_img_tensor(image):\n",
    "    \"\"\"\n",
    "    Transforms an image based on the specified classifier input configurations.\n",
    "    \"\"\"\n",
    "    # image = kornia.geometry.transform.resize(image, 224, interpolation=\"bicubic\")\n",
    "    image = kornia.geometry.transform.resize(image, 224)\n",
    "    image = kornia.geometry.transform.center_crop(image, (224, 224))\n",
    "    # image = T.Normalize(mean=IMAGENET_DEFAULT_MEAN, std=IMAGENET_DEFAULT_STD)(image)\n",
    "    return image\n",
    "\n",
    "img_tensor = transform_img_tensor(img_tensor)\n",
    "with torch.cuda.amp.autocast():\n",
    "    orig_output = model(img_tensor, \"A photo of 11 balls\")\n"
   ]
  },
  {
   "cell_type": "code",
   "execution_count": null,
   "id": "0feb5518",
   "metadata": {},
   "outputs": [],
   "source": [
    "orig_output.max(), orig_output.min(), orig_output.mean(), orig_output.std(),orig_output.sum()"
   ]
  },
  {
   "cell_type": "code",
   "execution_count": null,
   "id": "c4eb1b4c",
   "metadata": {},
   "outputs": [],
   "source": [
    "pred_cnt = (torch.sum(orig_output)/60).item()\n",
    "pred_cnt\n"
   ]
  }
 ],
 "metadata": {
  "kernelspec": {
   "display_name": "density_guided",
   "language": "python",
   "name": "python3"
  },
  "language_info": {
   "codemirror_mode": {
    "name": "ipython",
    "version": 3
   },
   "file_extension": ".py",
   "mimetype": "text/x-python",
   "name": "python",
   "nbconvert_exporter": "python",
   "pygments_lexer": "ipython3",
   "version": "3.10.18"
  }
 },
 "nbformat": 4,
 "nbformat_minor": 5
}
