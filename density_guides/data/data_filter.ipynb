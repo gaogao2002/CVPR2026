{
 "cells": [
  {
   "cell_type": "code",
   "execution_count": 19,
   "id": "01561a7a",
   "metadata": {},
   "outputs": [],
   "source": [
    "import numpy as np\n",
    "import torch\n",
    "from PIL import Image\n",
    "import os\n",
    "from tqdm import tqdm\n",
    "import pandas as pd\n",
    "import shutil\n",
    "from torchvision import transforms"
   ]
  },
  {
   "cell_type": "code",
   "execution_count": 10,
   "id": "a98665f3",
   "metadata": {},
   "outputs": [],
   "source": [
    "DATA_PATH = \"/root/autodl-tmp/FSC147\"\n",
    "SAVE_PATH = \"/root/autodl-tmp/datasets/FSC147-good\"\n",
    "IMG_id = 2"
   ]
  },
  {
   "cell_type": "code",
   "execution_count": 11,
   "id": "38d1ff26",
   "metadata": {},
   "outputs": [],
   "source": [
    "IMAGE_PATH = os.path.join(DATA_PATH,\"images_384_VarV2\",f\"{IMG_id}.jpg\")\n",
    "Density_PATH = os.path.join(DATA_PATH,\"gt_density_map_adaptive_384_VarV2\",f\"{IMG_id}.npy\")\n",
    "JSON_PATH = os.path.join(DATA_PATH,\"annotation_FSC147_384.json\")\n"
   ]
  },
  {
   "cell_type": "code",
   "execution_count": 12,
   "id": "87037a2e",
   "metadata": {},
   "outputs": [
    {
     "name": "stdout",
     "output_type": "stream",
     "text": [
      "(633, 384)\n",
      "243072\n"
     ]
    }
   ],
   "source": [
    "img = Image.open(IMAGE_PATH)\n",
    "print(img.size)\n",
    "print(img.size[0]*img.size[1])"
   ]
  },
  {
   "cell_type": "code",
   "execution_count": 16,
   "id": "acdbbf45",
   "metadata": {},
   "outputs": [
    {
     "name": "stdout",
     "output_type": "stream",
     "text": [
      "243072\n",
      "(633, 384)\n",
      "8.000002\n",
      "torch.Size([633, 384])\n"
     ]
    }
   ],
   "source": [
    "density_array = np.load(Density_PATH)\n",
    "print(density_array.size)\n",
    "density_matrix = np.reshape(density_array,(-1,384)) \n",
    "print(density_matrix.shape)\n",
    "print(np.sum(density_array))\n",
    "density_tensor = torch.from_numpy(density_matrix)\n",
    "print(density_tensor.shape)"
   ]
  },
  {
   "cell_type": "code",
   "execution_count": 21,
   "id": "c16245a9",
   "metadata": {},
   "outputs": [
    {
     "name": "stdout",
     "output_type": "stream",
     "text": [
      "torch.Size([3, 384, 384])\n"
     ]
    }
   ],
   "source": [
    "image_tranform = transforms.Compose([\n",
    "            transforms.Resize((384, 384)),           # 调整大小\n",
    "            transforms.ToTensor(),                   # 转换为 tensor\n",
    "            transforms.Normalize(                    # 标准化\n",
    "                mean=[0.5, 0.5, 0.5], \n",
    "                std=[0.5, 0.5, 0.5]\n",
    "        )\n",
    "        ]) \n",
    "image_tensor = image_tranform(img)\n",
    "print(image_tensor.shape)"
   ]
  },
  {
   "cell_type": "code",
   "execution_count": 27,
   "id": "73e9503e",
   "metadata": {},
   "outputs": [],
   "source": [
    "import json"
   ]
  },
  {
   "cell_type": "code",
   "execution_count": null,
   "id": "c7bc2398",
   "metadata": {},
   "outputs": [
    {
     "name": "stdout",
     "output_type": "stream",
     "text": [
      "<class 'dict'>\n"
     ]
    }
   ],
   "source": [
    "with open(JSON_PATH, \"r\", encoding=\"utf-8\") as f:\n",
    "    data = json.load(f)\n",
    "\n",
    "print(type(data))  "
   ]
  },
  {
   "cell_type": "code",
   "execution_count": 73,
   "id": "3feaf011",
   "metadata": {},
   "outputs": [],
   "source": [
    "data_dict = {}\n",
    "\n",
    "with open(\"/root/autodl-tmp/FSC147/ImageClasses_FSC147.txt\", \"r\", encoding=\"utf-8\") as f:\n",
    "    for line in f:\n",
    "        line = line.strip()\n",
    "        if not line:\n",
    "            continue\n",
    "        parts = line.split(maxsplit=1)  # 只切一次\n",
    "        key = parts[0]\n",
    "        value = parts[1] if len(parts) > 1 else \"\"\n",
    "        data_dict[key] = value"
   ]
  },
  {
   "cell_type": "code",
   "execution_count": 41,
   "id": "cf87c598",
   "metadata": {},
   "outputs": [],
   "source": [
    "image_id_list = os.listdir(os.path.join(DATA_PATH,\"images_384_VarV2\"))"
   ]
  },
  {
   "cell_type": "code",
   "execution_count": 79,
   "id": "9b19aec1",
   "metadata": {},
   "outputs": [
    {
     "name": "stderr",
     "output_type": "stream",
     "text": [
      "100%|██████████| 6146/6146 [00:09<00:00, 650.92it/s]\n"
     ]
    }
   ],
   "source": [
    "for image_id in tqdm(image_id_list):\n",
    "    index,mode = image_id.split(\".\")[0],image_id.split(\".\")[1]\n",
    "    image_path_init = os.path.join(DATA_PATH,\"images_384_VarV2\",f\"{index}.{mode}\")\n",
    "    density_path_init = os.path.join(DATA_PATH,\"gt_density_map_adaptive_384_VarV2\",f\"{index}.npy\")\n",
    "    \n",
    "    name = data_dict[image_id]\n",
    "    number = len(data[image_id][\"points\"])\n",
    "    \n",
    "    save_path = os.path.join(SAVE_PATH,f\"{number}\")\n",
    "    \n",
    "    if not os.path.exists(save_path):\n",
    "        os.makedirs(save_path)\n",
    "    save_image_path = os.path.join(save_path,\"image\")\n",
    "       \n",
    "    if not os.path.exists(save_image_path):\n",
    "        os.makedirs(save_image_path)\n",
    "        \n",
    "    save_density_path = os.path.join(save_path,\"density\")    \n",
    "    if not os.path.exists(save_density_path):\n",
    "        os.makedirs(save_density_path)\n",
    "        \n",
    "    number_name_id_img_save_path = os.path.join(save_image_path,f\"{number}_{name}_{index}.{mode}\")\n",
    "    number_name_id_density_save_path = os.path.join(save_density_path,f\"{number}_{name}_{index}.npy\")\n",
    "    \n",
    "    shutil.copy(image_path_init, number_name_id_img_save_path)\n",
    "    shutil.copy(density_path_init, number_name_id_density_save_path)\n",
    "    \n",
    "    "
   ]
  },
  {
   "cell_type": "code",
   "execution_count": null,
   "id": "bdfa7a28",
   "metadata": {},
   "outputs": [],
   "source": [
    "for image_id in tqdm(image_id_list):\n",
    "    index,mode = image_id.split(\".\")[0],image_id.split(\".\")[1]\n",
    "    image_path_init = os.path.join(DATA_PATH,\"images_384_VarV2\",f\"{index}.{mode}\")\n",
    "    density_path_init = os.path.join(DATA_PATH,\"gt_density_map_adaptive_384_VarV2\",f\"{index}.npy\")\n",
    "    \n",
    "    name = data_dict[image_id]\n",
    "    number = len(data[image_id][\"points\"])\n",
    "    \n",
    "    save_path = os.path.join(SAVE_PATH,f\"{number}\")\n",
    "    \n",
    "    if not os.path.exists(save_path):\n",
    "        os.makedirs(save_path)\n",
    "    save_image_path = os.path.join(save_path,\"image\")\n",
    "       \n",
    "    if not os.path.exists(save_image_path):\n",
    "        os.makedirs(save_image_path)\n",
    "        \n",
    "    save_density_path = os.path.join(save_path,\"density\")    \n",
    "    if not os.path.exists(save_density_path):\n",
    "        os.makedirs(save_density_path)\n",
    "        \n",
    "    number_name_id_img_save_path = os.path.join(save_image_path,f\"{number}_{name}_{index}.{mode}\")\n",
    "    number_name_id_density_save_path = os.path.join(save_density_path,f\"{number}_{name}_{index}.npy\")\n",
    "    \n",
    "    "
   ]
  }
 ],
 "metadata": {
  "kernelspec": {
   "display_name": "density_guided",
   "language": "python",
   "name": "python3"
  },
  "language_info": {
   "codemirror_mode": {
    "name": "ipython",
    "version": 3
   },
   "file_extension": ".py",
   "mimetype": "text/x-python",
   "name": "python",
   "nbconvert_exporter": "python",
   "pygments_lexer": "ipython3",
   "version": "3.10.18"
  }
 },
 "nbformat": 4,
 "nbformat_minor": 5
}
